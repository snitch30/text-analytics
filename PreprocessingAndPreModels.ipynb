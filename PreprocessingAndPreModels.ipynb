{
 "cells": [
  {
   "cell_type": "code",
   "execution_count": 1,
   "metadata": {},
   "outputs": [],
   "source": [
    "import pandas as pd\n",
    "import numpy as np\n",
    "from contractions import contractions\n",
    "from nltk.corpus import stopwords\n",
    "from nltk.tokenize import word_tokenize\n",
    "from bs4 import BeautifulSoup\n",
    "import re\n",
    "from tqdm import tqdm"
   ]
  },
  {
   "cell_type": "code",
   "execution_count": 2,
   "metadata": {},
   "outputs": [],
   "source": [
    "def readAllDataAndMerge():\n",
    "    data = pd.read_csv('dataset/avg_cleaned_25k_yelp.csv')\n",
    "    posReviews = pd.read_csv('dataset/pos_cleaned_25k_yelp.csv')\n",
    "    negReviews = pd.read_csv('dataset/neg_cleaned_25k_yelp.csv')\n",
    "    \n",
    "    data = data.append(posReviews, ignore_index = True) \n",
    "    data = data.append(negReviews, ignore_index = True) \n",
    "    return data"
   ]
  },
  {
   "cell_type": "code",
   "execution_count": 3,
   "metadata": {},
   "outputs": [],
   "source": [
    "data = readAllDataAndMerge()"
   ]
  },
  {
   "cell_type": "code",
   "execution_count": 4,
   "metadata": {
    "scrolled": false
   },
   "outputs": [
    {
     "data": {
      "text/html": [
       "<div>\n",
       "<style scoped>\n",
       "    .dataframe tbody tr th:only-of-type {\n",
       "        vertical-align: middle;\n",
       "    }\n",
       "\n",
       "    .dataframe tbody tr th {\n",
       "        vertical-align: top;\n",
       "    }\n",
       "\n",
       "    .dataframe thead th {\n",
       "        text-align: right;\n",
       "    }\n",
       "</style>\n",
       "<table border=\"1\" class=\"dataframe\">\n",
       "  <thead>\n",
       "    <tr style=\"text-align: right;\">\n",
       "      <th></th>\n",
       "      <th>stars</th>\n",
       "      <th>date</th>\n",
       "      <th>text</th>\n",
       "      <th>useful</th>\n",
       "    </tr>\n",
       "  </thead>\n",
       "  <tbody>\n",
       "    <tr>\n",
       "      <th>0</th>\n",
       "      <td>3</td>\n",
       "      <td>2015-06-18</td>\n",
       "      <td>Very expensive. All I had was drinks. They are...</td>\n",
       "      <td>0</td>\n",
       "    </tr>\n",
       "    <tr>\n",
       "      <th>1</th>\n",
       "      <td>3</td>\n",
       "      <td>2017-08-04</td>\n",
       "      <td>Summary: a very nice congee restaurant that is...</td>\n",
       "      <td>0</td>\n",
       "    </tr>\n",
       "    <tr>\n",
       "      <th>2</th>\n",
       "      <td>3</td>\n",
       "      <td>2015-08-13</td>\n",
       "      <td>Coffee was good, people were nice, but a coffe...</td>\n",
       "      <td>0</td>\n",
       "    </tr>\n",
       "    <tr>\n",
       "      <th>3</th>\n",
       "      <td>3</td>\n",
       "      <td>2012-08-06</td>\n",
       "      <td>My husband got the shrimp and I got the crabet...</td>\n",
       "      <td>4</td>\n",
       "    </tr>\n",
       "    <tr>\n",
       "      <th>4</th>\n",
       "      <td>3</td>\n",
       "      <td>2015-06-19</td>\n",
       "      <td>I was really looking forward to trying sidecar...</td>\n",
       "      <td>2</td>\n",
       "    </tr>\n",
       "  </tbody>\n",
       "</table>\n",
       "</div>"
      ],
      "text/plain": [
       "   stars        date                                               text  \\\n",
       "0      3  2015-06-18  Very expensive. All I had was drinks. They are...   \n",
       "1      3  2017-08-04  Summary: a very nice congee restaurant that is...   \n",
       "2      3  2015-08-13  Coffee was good, people were nice, but a coffe...   \n",
       "3      3  2012-08-06  My husband got the shrimp and I got the crabet...   \n",
       "4      3  2015-06-19  I was really looking forward to trying sidecar...   \n",
       "\n",
       "   useful  \n",
       "0       0  \n",
       "1       0  \n",
       "2       0  \n",
       "3       4  \n",
       "4       2  "
      ]
     },
     "execution_count": 4,
     "metadata": {},
     "output_type": "execute_result"
    }
   ],
   "source": [
    "data.head()"
   ]
  },
  {
   "cell_type": "code",
   "execution_count": 5,
   "metadata": {},
   "outputs": [
    {
     "name": "stdout",
     "output_type": "stream",
     "text": [
      "<class 'pandas.core.frame.DataFrame'>\n",
      "RangeIndex: 75000 entries, 0 to 74999\n",
      "Data columns (total 4 columns):\n",
      "stars     75000 non-null int64\n",
      "date      75000 non-null object\n",
      "text      75000 non-null object\n",
      "useful    75000 non-null int64\n",
      "dtypes: int64(2), object(2)\n",
      "memory usage: 2.3+ MB\n"
     ]
    }
   ],
   "source": [
    "data.info()"
   ]
  },
  {
   "cell_type": "code",
   "execution_count": 6,
   "metadata": {},
   "outputs": [],
   "source": [
    "def assignPolarityToReviews(stars):\n",
    "    if stars > 3:\n",
    "        return 1\n",
    "    if stars == 3:\n",
    "        return 0\n",
    "    return -1"
   ]
  },
  {
   "cell_type": "code",
   "execution_count": 7,
   "metadata": {},
   "outputs": [],
   "source": [
    "starsColumn = data['stars']\n",
    "polarity = starsColumn.map(assignPolarityToReviews)\n",
    "data['polarity'] = polarity #1: Good | 0:Neutral | 1:Bad"
   ]
  },
  {
   "cell_type": "code",
   "execution_count": 12,
   "metadata": {},
   "outputs": [
    {
     "data": {
      "text/html": [
       "<div>\n",
       "<style scoped>\n",
       "    .dataframe tbody tr th:only-of-type {\n",
       "        vertical-align: middle;\n",
       "    }\n",
       "\n",
       "    .dataframe tbody tr th {\n",
       "        vertical-align: top;\n",
       "    }\n",
       "\n",
       "    .dataframe thead th {\n",
       "        text-align: right;\n",
       "    }\n",
       "</style>\n",
       "<table border=\"1\" class=\"dataframe\">\n",
       "  <thead>\n",
       "    <tr style=\"text-align: right;\">\n",
       "      <th></th>\n",
       "      <th>stars</th>\n",
       "      <th>date</th>\n",
       "      <th>text</th>\n",
       "      <th>useful</th>\n",
       "      <th>polarity</th>\n",
       "    </tr>\n",
       "  </thead>\n",
       "  <tbody>\n",
       "    <tr>\n",
       "      <th>0</th>\n",
       "      <td>5</td>\n",
       "      <td>2014-11-15</td>\n",
       "      <td>Best schnitzel place in Toronto. Friendly serv...</td>\n",
       "      <td>0</td>\n",
       "      <td>1</td>\n",
       "    </tr>\n",
       "    <tr>\n",
       "      <th>1</th>\n",
       "      <td>2</td>\n",
       "      <td>2017-03-07</td>\n",
       "      <td>We went for sushi . Service was super slow . S...</td>\n",
       "      <td>1</td>\n",
       "      <td>-1</td>\n",
       "    </tr>\n",
       "    <tr>\n",
       "      <th>2</th>\n",
       "      <td>3</td>\n",
       "      <td>2015-06-14</td>\n",
       "      <td>Santi and I came to this iconic pizzeria for d...</td>\n",
       "      <td>12</td>\n",
       "      <td>0</td>\n",
       "    </tr>\n",
       "    <tr>\n",
       "      <th>3</th>\n",
       "      <td>2</td>\n",
       "      <td>2014-06-04</td>\n",
       "      <td>portions are large.. price is cheap... thats a...</td>\n",
       "      <td>0</td>\n",
       "      <td>-1</td>\n",
       "    </tr>\n",
       "    <tr>\n",
       "      <th>4</th>\n",
       "      <td>3</td>\n",
       "      <td>2014-04-30</td>\n",
       "      <td>Had dinner with my wonderful and handsome husb...</td>\n",
       "      <td>0</td>\n",
       "      <td>0</td>\n",
       "    </tr>\n",
       "    <tr>\n",
       "      <th>5</th>\n",
       "      <td>1</td>\n",
       "      <td>2014-10-20</td>\n",
       "      <td>WORST place I have ever been canceled appointm...</td>\n",
       "      <td>5</td>\n",
       "      <td>-1</td>\n",
       "    </tr>\n",
       "    <tr>\n",
       "      <th>6</th>\n",
       "      <td>4</td>\n",
       "      <td>2010-12-13</td>\n",
       "      <td>I came here on Saturday night to try and unwin...</td>\n",
       "      <td>2</td>\n",
       "      <td>1</td>\n",
       "    </tr>\n",
       "    <tr>\n",
       "      <th>7</th>\n",
       "      <td>3</td>\n",
       "      <td>2015-08-29</td>\n",
       "      <td>This is the only Costco in Henderson so its al...</td>\n",
       "      <td>0</td>\n",
       "      <td>0</td>\n",
       "    </tr>\n",
       "    <tr>\n",
       "      <th>8</th>\n",
       "      <td>3</td>\n",
       "      <td>2016-09-03</td>\n",
       "      <td>This place is pretty overhyped for what it act...</td>\n",
       "      <td>0</td>\n",
       "      <td>0</td>\n",
       "    </tr>\n",
       "    <tr>\n",
       "      <th>9</th>\n",
       "      <td>3</td>\n",
       "      <td>2012-04-25</td>\n",
       "      <td>Full-size Wal-Mart that is a hair's breadth ac...</td>\n",
       "      <td>2</td>\n",
       "      <td>0</td>\n",
       "    </tr>\n",
       "  </tbody>\n",
       "</table>\n",
       "</div>"
      ],
      "text/plain": [
       "   stars        date                                               text  \\\n",
       "0      5  2014-11-15  Best schnitzel place in Toronto. Friendly serv...   \n",
       "1      2  2017-03-07  We went for sushi . Service was super slow . S...   \n",
       "2      3  2015-06-14  Santi and I came to this iconic pizzeria for d...   \n",
       "3      2  2014-06-04  portions are large.. price is cheap... thats a...   \n",
       "4      3  2014-04-30  Had dinner with my wonderful and handsome husb...   \n",
       "5      1  2014-10-20  WORST place I have ever been canceled appointm...   \n",
       "6      4  2010-12-13  I came here on Saturday night to try and unwin...   \n",
       "7      3  2015-08-29  This is the only Costco in Henderson so its al...   \n",
       "8      3  2016-09-03  This place is pretty overhyped for what it act...   \n",
       "9      3  2012-04-25  Full-size Wal-Mart that is a hair's breadth ac...   \n",
       "\n",
       "   useful  polarity  \n",
       "0       0         1  \n",
       "1       1        -1  \n",
       "2      12         0  \n",
       "3       0        -1  \n",
       "4       0         0  \n",
       "5       5        -1  \n",
       "6       2         1  \n",
       "7       0         0  \n",
       "8       0         0  \n",
       "9       2         0  "
      ]
     },
     "execution_count": 12,
     "metadata": {},
     "output_type": "execute_result"
    }
   ],
   "source": [
    "data = data.sample(frac=1).reset_index(drop=True)\n",
    "data.head(10)"
   ]
  },
  {
   "cell_type": "code",
   "execution_count": 13,
   "metadata": {},
   "outputs": [
    {
     "name": "stdout",
     "output_type": "stream",
     "text": [
      "{'doing', 'while', 'ain', 'there', 'during', \"don't\", 'themselves', 'under', 'than', 'won', \"won't\", 'up', 'down', 'through', 'do', 'it', 'them', \"that'll\", 't', 'ourselves', 'now', 'such', 'this', 'nor', 'yours', \"mightn't\", \"wouldn't\", 'more', 'yourselves', 'which', \"isn't\", 'needn', \"needn't\", 'shan', 'didn', 'her', 'into', 'these', 'those', 'any', 'again', 'ma', 'all', 'at', 'over', \"she's\", 'same', 's', 'we', 'because', 'too', 'should', 'few', 'mustn', 'our', 'their', \"you've\", 'wouldn', 'o', \"didn't\", 'why', \"it's\", 'couldn', 'did', \"hadn't\", \"haven't\", 'theirs', 'between', 'before', 'once', 'its', 'own', 'having', 'with', 'not', 'am', 'an', 'is', 'but', 'had', 'other', 'd', 'wasn', 'mightn', 'are', 'haven', 'that', 'how', 'only', 'of', 'my', 'most', \"you're\", 'he', 'll', 'who', 'y', 'does', 'for', 'i', 'himself', 'to', 'yourself', 'and', \"shan't\", 'will', 'further', 'or', 'from', 'a', 'the', 'here', \"weren't\", 'doesn', 'she', \"you'll\", 'hasn', 'on', \"should've\", \"wasn't\", 'hadn', \"aren't\", \"mustn't\", 'if', 'shouldn', 'aren', 're', 'whom', 'be', 'after', \"shouldn't\", 'were', \"doesn't\", 'your', 'just', \"couldn't\", 'can', 'ours', 'off', 'you', 'above', 'has', 'herself', 'isn', 'until', 'they', 'me', 've', 'out', \"you'd\", 'was', 'by', 'below', 'itself', 'then', 'each', 'very', 'been', 'both', 'm', 'myself', 'weren', 'what', 'so', 'hers', 'against', 'some', 'as', 'in', 'being', \"hasn't\", 'him', 'about', 'don', 'have', 'no', 'his', 'where', 'when'}\n"
     ]
    }
   ],
   "source": [
    "#Stopwords selection\n",
    "#https://www.cs.cmu.edu/~ark/EMNLP-2015/proceedings/WASSA/pdf/WASSA14.pdf\n",
    "\n",
    "stopWords = set(stopwords.words('english'))\n",
    "print(stopWords)"
   ]
  },
  {
   "cell_type": "code",
   "execution_count": 14,
   "metadata": {},
   "outputs": [],
   "source": [
    "\n",
    "wordsRequiredOfStopWords = ['not', 'nor', 'neither' , 'no', \"wasn't\"]\n",
    "\n",
    "stopWords = stopWords.difference(wordsRequiredOfStopWords)"
   ]
  },
  {
   "cell_type": "code",
   "execution_count": 17,
   "metadata": {},
   "outputs": [],
   "source": [
    "#Improving performance in string manipulation\n",
    "def expandContractions(text):\n",
    "    words = text.split(' ')\n",
    "    expandedTextList = []\n",
    "    for word in words:\n",
    "        if(word in contractions):\n",
    "            expandedTextList.append(contractions[word].split('/')[0]) #Always considering 1st form of verb for list\n",
    "        else:\n",
    "            expandedTextList.append(word)\n",
    "        expandedTextList.append(' ')\n",
    "    return ''.join(expandedTextList)\n",
    "\n",
    "def getNonStopWordsLowerCase(text):\n",
    "    textTokens = word_tokenize(text)\n",
    "    retText = []\n",
    "    for w in textTokens:\n",
    "        w = w.lower()\n",
    "        if(w not in stopWords and len(w) > 1) :\n",
    "            retText.append(w + ' ')\n",
    "            \n",
    "    return ''.join(retText)\n",
    "\n",
    "def textCleaning(text):\n",
    "    \n",
    "    #Remove Hyperlinks\n",
    "    # Regex: r'\\S+', # sequence of non-whitespace\n",
    "    text = re.sub(r'http\\S+', '', text)\n",
    "    \n",
    "    #Remove all tags\n",
    "    text = BeautifulSoup(text, 'html.parser').get_text()\n",
    "    \n",
    "    #Expand texts\n",
    "    text = expandContractions(text)\n",
    "    \n",
    "    #Remove all words containing numbers\n",
    "    #https://stackoverflow.com/questions/18082130/python-regex-to-remove-all-words-which-contains-number\n",
    "    text = ' '.join(s for s in text.split() if not any(c.isdigit() for c in s))\n",
    "    \n",
    "    #Remove special characters\n",
    "    text = re.sub('[^A-Za-z]+', ' ', text)\n",
    "    \n",
    "    #Get non stop words in lower case\n",
    "    text = getNonStopWordsLowerCase(text).strip()\n",
    "    \n",
    "    return text\n"
   ]
  },
  {
   "cell_type": "code",
   "execution_count": 18,
   "metadata": {},
   "outputs": [
    {
     "name": "stderr",
     "output_type": "stream",
     "text": [
      "100%|██████████████████████████████████████████████████████████████████████████| 75000/75000 [00:49<00:00, 1523.06it/s]\n"
     ]
    }
   ],
   "source": [
    "\n",
    "preprocessed_texts = []\n",
    "\n",
    "for text in tqdm(data['text'].values):\n",
    "    doneText = textCleaning(text)\n",
    "    #if(len(doneText) < 2):\n",
    "    #   continue\n",
    "    preprocessed_texts.append(doneText)\n"
   ]
  },
  {
   "cell_type": "code",
   "execution_count": 19,
   "metadata": {},
   "outputs": [
    {
     "data": {
      "text/plain": [
       "75000"
      ]
     },
     "execution_count": 19,
     "metadata": {},
     "output_type": "execute_result"
    }
   ],
   "source": [
    "len(preprocessed_texts)"
   ]
  },
  {
   "cell_type": "code",
   "execution_count": 20,
   "metadata": {},
   "outputs": [],
   "source": [
    "#Sample prints\n",
    "\n",
    "def printPreprocessedTexts(idx):\n",
    "\n",
    "    print(\"Original Text:\\t\",data['text'][idx] , end='\\n\\n')\n",
    "    print(\"Preprocessed Text:\\t\",preprocessed_texts[idx], end='\\n\\n')\n",
    "\n",
    "    print(\"Polarity of the text: \", data['polarity'][idx])"
   ]
  },
  {
   "cell_type": "code",
   "execution_count": 21,
   "metadata": {
    "scrolled": true
   },
   "outputs": [
    {
     "name": "stdout",
     "output_type": "stream",
     "text": [
      "Original Text:\t Best schnitzel place in Toronto. Friendly service- cheap price. They're loosing the location moving out on Dec 31st.\n",
      "\n",
      "Preprocessed Text:\t best schnitzel place toronto friendly service cheap price loosing location moving dec\n",
      "\n",
      "Polarity of the text:  1\n"
     ]
    }
   ],
   "source": [
    "printPreprocessedTexts(0)"
   ]
  },
  {
   "cell_type": "code",
   "execution_count": 22,
   "metadata": {
    "scrolled": true
   },
   "outputs": [
    {
     "name": "stdout",
     "output_type": "stream",
     "text": [
      "Original Text:\t We went for sushi . Service was super slow . Sushi didn't taste fresh . And it wasn't even that busy. Looks like a tourist trap for convention people . Definitely not worth the price .\n",
      "\n",
      "Preprocessed Text:\t went sushi service super slow sushi not taste fresh not even busy looks like tourist trap convention people definitely not worth price\n",
      "\n",
      "Polarity of the text:  -1\n"
     ]
    }
   ],
   "source": [
    "printPreprocessedTexts(1)"
   ]
  },
  {
   "cell_type": "code",
   "execution_count": 23,
   "metadata": {},
   "outputs": [
    {
     "name": "stdout",
     "output_type": "stream",
     "text": [
      "Original Text:\t Santi and I came to this iconic pizzeria for dinner, and as usual, it was a positive experience. The wait was about half an hour for us. The dim lit red brick interior started with a patio dining area and small cozy interior with an open kitchen, brick oven, and display of their signature bread. They specialize in a small number of artisanal pizzas with a high mark up. The noise level was high, as we were seated on the counter overlooking a number of pizzas delivered to the tables. \n",
      "\n",
      "The Margherita ($15) came with tomato sauce, fresh mozzarella, and basil. Their pizza crust was excellent: thin, crisp, carried great flavor and a crunch in every bite. Their tomato sauce and mozzarella were equally excellent, but more basil could have helped to boost the flavor. I also suggest interested diners who wish for a savory anchor to order it with prosciutto. \n",
      "\n",
      "The Wisebuy ($18) was made with wood-roasted onion, house smoked mozzarella, and fennel sausage. The mozzarella had a nice hint of smoke coupled with savory sausage. The onions gave sweet rise to the flavors, and the thin crust was again, memorable. I would love to have the option of ordering the Margherita to come with smoked mozzarella.\n",
      "\n",
      "They require valet parking which was an inconvenience when there was no street parking available in the area. The price of these individualized pizzas was also higher than expected, which unfortunately, influenced my rating when compared to other better pizzas in the Valley. Service was attentive and efficient. I would be interested in coming back to try their Sonny Boy and Biancoverde.\n",
      "\n",
      "Preprocessed Text:\t santi came iconic pizzeria dinner usual positive experience wait half hour us dim lit red brick interior started patio dining area small cozy interior open kitchen brick oven display signature bread specialize small number artisanal pizzas high mark noise level high seated counter overlooking number pizzas delivered tables margherita came tomato sauce fresh mozzarella basil pizza crust excellent thin crisp carried great flavor crunch every bite tomato sauce mozzarella equally excellent basil could helped boost flavor also suggest interested diners wish savory anchor order prosciutto wisebuy made wood roasted onion house smoked mozzarella fennel sausage mozzarella nice hint smoke coupled savory sausage onions gave sweet rise flavors thin crust memorable would love option ordering margherita come smoked mozzarella require valet parking inconvenience no street parking available area price individualized pizzas also higher expected unfortunately influenced rating compared better pizzas valley service attentive efficient would interested coming back try sonny boy biancoverde\n",
      "\n",
      "Polarity of the text:  0\n"
     ]
    }
   ],
   "source": [
    "printPreprocessedTexts(2)"
   ]
  },
  {
   "cell_type": "code",
   "execution_count": 25,
   "metadata": {},
   "outputs": [
    {
     "name": "stdout",
     "output_type": "stream",
     "text": [
      "<class 'pandas.core.frame.DataFrame'>\n",
      "RangeIndex: 75000 entries, 0 to 74999\n",
      "Data columns (total 3 columns):\n",
      "Review      75000 non-null object\n",
      "Polarity    75000 non-null int64\n",
      "Useful      75000 non-null int64\n",
      "dtypes: int64(2), object(1)\n",
      "memory usage: 1.7+ MB\n"
     ]
    }
   ],
   "source": [
    "#Writing to CSV to avoid recomputation\n",
    "\n",
    "#colList = ['Review','Polarity','Useful']\n",
    "to_save = pd.DataFrame({'Review': preprocessed_texts, 'Polarity': data['polarity'], 'Useful':data['useful'] })\n",
    "to_save.info()"
   ]
  },
  {
   "cell_type": "code",
   "execution_count": 26,
   "metadata": {},
   "outputs": [],
   "source": [
    "to_save.to_csv('dataset/preprocessed.csv', index=False)"
   ]
  },
  {
   "cell_type": "code",
   "execution_count": null,
   "metadata": {},
   "outputs": [],
   "source": []
  }
 ],
 "metadata": {
  "kernelspec": {
   "display_name": "Python 3",
   "language": "python",
   "name": "python3"
  },
  "language_info": {
   "codemirror_mode": {
    "name": "ipython",
    "version": 3
   },
   "file_extension": ".py",
   "mimetype": "text/x-python",
   "name": "python",
   "nbconvert_exporter": "python",
   "pygments_lexer": "ipython3",
   "version": "3.7.3"
  }
 },
 "nbformat": 4,
 "nbformat_minor": 2
}
