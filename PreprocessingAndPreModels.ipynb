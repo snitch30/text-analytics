{
 "cells": [
  {
   "cell_type": "code",
   "execution_count": 1,
   "metadata": {},
   "outputs": [],
   "source": [
    "import pandas as pd\n",
    "import numpy as np\n",
    "from contractions import contractions\n",
    "from nltk.corpus import stopwords\n",
    "from nltk.tokenize import word_tokenize\n",
    "from bs4 import BeautifulSoup\n",
    "import re\n",
    "from tqdm import tqdm"
   ]
  },
  {
   "cell_type": "code",
   "execution_count": 2,
   "metadata": {},
   "outputs": [],
   "source": [
    "def readAllDataAndMerge():\n",
    "    data = pd.read_csv('dataset/avg_cleaned_25k_yelp.csv')\n",
    "    posReviews = pd.read_csv('dataset/pos_cleaned_25k_yelp.csv')\n",
    "    negReviews = pd.read_csv('dataset/neg_cleaned_25k_yelp.csv')\n",
    "    \n",
    "    data = data.append(posReviews, ignore_index = True) \n",
    "    data = data.append(negReviews, ignore_index = True) \n",
    "    return data"
   ]
  },
  {
   "cell_type": "code",
   "execution_count": 3,
   "metadata": {},
   "outputs": [],
   "source": [
    "data = readAllDataAndMerge()"
   ]
  },
  {
   "cell_type": "code",
   "execution_count": 4,
   "metadata": {
    "scrolled": false
   },
   "outputs": [
    {
     "data": {
      "text/html": [
       "<div>\n",
       "<style scoped>\n",
       "    .dataframe tbody tr th:only-of-type {\n",
       "        vertical-align: middle;\n",
       "    }\n",
       "\n",
       "    .dataframe tbody tr th {\n",
       "        vertical-align: top;\n",
       "    }\n",
       "\n",
       "    .dataframe thead th {\n",
       "        text-align: right;\n",
       "    }\n",
       "</style>\n",
       "<table border=\"1\" class=\"dataframe\">\n",
       "  <thead>\n",
       "    <tr style=\"text-align: right;\">\n",
       "      <th></th>\n",
       "      <th>stars</th>\n",
       "      <th>date</th>\n",
       "      <th>text</th>\n",
       "      <th>useful</th>\n",
       "    </tr>\n",
       "  </thead>\n",
       "  <tbody>\n",
       "    <tr>\n",
       "      <th>0</th>\n",
       "      <td>3</td>\n",
       "      <td>2015-06-18</td>\n",
       "      <td>Very expensive. All I had was drinks. They are...</td>\n",
       "      <td>0</td>\n",
       "    </tr>\n",
       "    <tr>\n",
       "      <th>1</th>\n",
       "      <td>3</td>\n",
       "      <td>2017-08-04</td>\n",
       "      <td>Summary: a very nice congee restaurant that is...</td>\n",
       "      <td>0</td>\n",
       "    </tr>\n",
       "    <tr>\n",
       "      <th>2</th>\n",
       "      <td>3</td>\n",
       "      <td>2015-08-13</td>\n",
       "      <td>Coffee was good, people were nice, but a coffe...</td>\n",
       "      <td>0</td>\n",
       "    </tr>\n",
       "    <tr>\n",
       "      <th>3</th>\n",
       "      <td>3</td>\n",
       "      <td>2012-08-06</td>\n",
       "      <td>My husband got the shrimp and I got the crabet...</td>\n",
       "      <td>4</td>\n",
       "    </tr>\n",
       "    <tr>\n",
       "      <th>4</th>\n",
       "      <td>3</td>\n",
       "      <td>2015-06-19</td>\n",
       "      <td>I was really looking forward to trying sidecar...</td>\n",
       "      <td>2</td>\n",
       "    </tr>\n",
       "  </tbody>\n",
       "</table>\n",
       "</div>"
      ],
      "text/plain": [
       "   stars        date                                               text  \\\n",
       "0      3  2015-06-18  Very expensive. All I had was drinks. They are...   \n",
       "1      3  2017-08-04  Summary: a very nice congee restaurant that is...   \n",
       "2      3  2015-08-13  Coffee was good, people were nice, but a coffe...   \n",
       "3      3  2012-08-06  My husband got the shrimp and I got the crabet...   \n",
       "4      3  2015-06-19  I was really looking forward to trying sidecar...   \n",
       "\n",
       "   useful  \n",
       "0       0  \n",
       "1       0  \n",
       "2       0  \n",
       "3       4  \n",
       "4       2  "
      ]
     },
     "execution_count": 4,
     "metadata": {},
     "output_type": "execute_result"
    }
   ],
   "source": [
    "data.head()"
   ]
  },
  {
   "cell_type": "code",
   "execution_count": 5,
   "metadata": {},
   "outputs": [
    {
     "name": "stdout",
     "output_type": "stream",
     "text": [
      "<class 'pandas.core.frame.DataFrame'>\n",
      "RangeIndex: 75000 entries, 0 to 74999\n",
      "Data columns (total 4 columns):\n",
      "stars     75000 non-null int64\n",
      "date      75000 non-null object\n",
      "text      75000 non-null object\n",
      "useful    75000 non-null int64\n",
      "dtypes: int64(2), object(2)\n",
      "memory usage: 2.3+ MB\n"
     ]
    }
   ],
   "source": [
    "data.info()"
   ]
  },
  {
   "cell_type": "code",
   "execution_count": 6,
   "metadata": {},
   "outputs": [],
   "source": [
    "def assignPolarityToReviews(stars):\n",
    "    if stars > 3:\n",
    "        return 1\n",
    "    if stars == 3:\n",
    "        return 0\n",
    "    return -1"
   ]
  },
  {
   "cell_type": "code",
   "execution_count": 7,
   "metadata": {},
   "outputs": [],
   "source": [
    "starsColumn = data['stars']\n",
    "polarity = starsColumn.map(assignPolarityToReviews)\n",
    "data['polarity'] = polarity #1: Good | 0:Neutral | 1:Bad"
   ]
  },
  {
   "cell_type": "code",
   "execution_count": 8,
   "metadata": {},
   "outputs": [
    {
     "data": {
      "text/html": [
       "<div>\n",
       "<style scoped>\n",
       "    .dataframe tbody tr th:only-of-type {\n",
       "        vertical-align: middle;\n",
       "    }\n",
       "\n",
       "    .dataframe tbody tr th {\n",
       "        vertical-align: top;\n",
       "    }\n",
       "\n",
       "    .dataframe thead th {\n",
       "        text-align: right;\n",
       "    }\n",
       "</style>\n",
       "<table border=\"1\" class=\"dataframe\">\n",
       "  <thead>\n",
       "    <tr style=\"text-align: right;\">\n",
       "      <th></th>\n",
       "      <th>stars</th>\n",
       "      <th>date</th>\n",
       "      <th>text</th>\n",
       "      <th>useful</th>\n",
       "      <th>polarity</th>\n",
       "    </tr>\n",
       "  </thead>\n",
       "  <tbody>\n",
       "    <tr>\n",
       "      <th>0</th>\n",
       "      <td>4</td>\n",
       "      <td>2012-01-11</td>\n",
       "      <td>My sister and I really enjoyed Cartet in April...</td>\n",
       "      <td>0</td>\n",
       "      <td>1</td>\n",
       "    </tr>\n",
       "    <tr>\n",
       "      <th>1</th>\n",
       "      <td>1</td>\n",
       "      <td>2016-03-03</td>\n",
       "      <td>Watch their pricing!  I wanted to  buy 18 of a...</td>\n",
       "      <td>0</td>\n",
       "      <td>-1</td>\n",
       "    </tr>\n",
       "    <tr>\n",
       "      <th>2</th>\n",
       "      <td>4</td>\n",
       "      <td>2017-04-09</td>\n",
       "      <td>I like sampling the different teas and checkin...</td>\n",
       "      <td>0</td>\n",
       "      <td>1</td>\n",
       "    </tr>\n",
       "    <tr>\n",
       "      <th>3</th>\n",
       "      <td>5</td>\n",
       "      <td>2017-01-19</td>\n",
       "      <td>The crispy chicken sandwich was so good I'm co...</td>\n",
       "      <td>0</td>\n",
       "      <td>1</td>\n",
       "    </tr>\n",
       "    <tr>\n",
       "      <th>4</th>\n",
       "      <td>5</td>\n",
       "      <td>2016-06-26</td>\n",
       "      <td>My boyfriend and I have one trip to Vegas annu...</td>\n",
       "      <td>0</td>\n",
       "      <td>1</td>\n",
       "    </tr>\n",
       "    <tr>\n",
       "      <th>5</th>\n",
       "      <td>4</td>\n",
       "      <td>2010-10-26</td>\n",
       "      <td>Went here for lunch today with a local who had...</td>\n",
       "      <td>3</td>\n",
       "      <td>1</td>\n",
       "    </tr>\n",
       "    <tr>\n",
       "      <th>6</th>\n",
       "      <td>3</td>\n",
       "      <td>2017-01-19</td>\n",
       "      <td>This used to be my favorite raspado place. The...</td>\n",
       "      <td>1</td>\n",
       "      <td>0</td>\n",
       "    </tr>\n",
       "    <tr>\n",
       "      <th>7</th>\n",
       "      <td>3</td>\n",
       "      <td>2017-12-10</td>\n",
       "      <td>The tacos are really good. But the seating are...</td>\n",
       "      <td>0</td>\n",
       "      <td>0</td>\n",
       "    </tr>\n",
       "    <tr>\n",
       "      <th>8</th>\n",
       "      <td>3</td>\n",
       "      <td>2011-06-12</td>\n",
       "      <td>A friend recommended this restaurant to me for...</td>\n",
       "      <td>1</td>\n",
       "      <td>0</td>\n",
       "    </tr>\n",
       "    <tr>\n",
       "      <th>9</th>\n",
       "      <td>1</td>\n",
       "      <td>2013-01-20</td>\n",
       "      <td>They said they would show up between 5:00 pm a...</td>\n",
       "      <td>11</td>\n",
       "      <td>-1</td>\n",
       "    </tr>\n",
       "  </tbody>\n",
       "</table>\n",
       "</div>"
      ],
      "text/plain": [
       "   stars        date                                               text  \\\n",
       "0      4  2012-01-11  My sister and I really enjoyed Cartet in April...   \n",
       "1      1  2016-03-03  Watch their pricing!  I wanted to  buy 18 of a...   \n",
       "2      4  2017-04-09  I like sampling the different teas and checkin...   \n",
       "3      5  2017-01-19  The crispy chicken sandwich was so good I'm co...   \n",
       "4      5  2016-06-26  My boyfriend and I have one trip to Vegas annu...   \n",
       "5      4  2010-10-26  Went here for lunch today with a local who had...   \n",
       "6      3  2017-01-19  This used to be my favorite raspado place. The...   \n",
       "7      3  2017-12-10  The tacos are really good. But the seating are...   \n",
       "8      3  2011-06-12  A friend recommended this restaurant to me for...   \n",
       "9      1  2013-01-20  They said they would show up between 5:00 pm a...   \n",
       "\n",
       "   useful  polarity  \n",
       "0       0         1  \n",
       "1       0        -1  \n",
       "2       0         1  \n",
       "3       0         1  \n",
       "4       0         1  \n",
       "5       3         1  \n",
       "6       1         0  \n",
       "7       0         0  \n",
       "8       1         0  \n",
       "9      11        -1  "
      ]
     },
     "execution_count": 8,
     "metadata": {},
     "output_type": "execute_result"
    }
   ],
   "source": [
    "data = data.sample(frac=1).reset_index(drop=True)\n",
    "data.head(10)"
   ]
  },
  {
   "cell_type": "code",
   "execution_count": 16,
   "metadata": {},
   "outputs": [
    {
     "name": "stdout",
     "output_type": "stream",
     "text": [
      "{'am', 'will', 'mightn', \"mustn't\", \"weren't\", 't', 'then', 'after', 'can', \"mightn't\", 'does', 'just', \"needn't\", 'is', 'with', 'from', 'this', 'her', 'what', 'but', \"isn't\", 'to', 'not', 'out', 'yours', 'by', 'll', 've', 'was', 'for', 'again', 'in', 'me', 'wasn', 'themselves', \"should've\", 'if', 'very', 'under', 'ourselves', 'so', \"wouldn't\", 'theirs', \"she's\", 'while', 'further', 'each', 'herself', 'isn', 'have', 'between', 'all', \"don't\", 'him', 'itself', 'there', 'you', 'did', 'through', 'be', 'most', 'which', 'doesn', 'some', 'off', 'only', 'his', 'too', 'over', 're', 'at', 'shouldn', 'your', 'couldn', 'where', \"aren't\", 'them', 'i', 'once', 'before', 'no', 'below', 'into', 'y', 'didn', \"you've\", 'o', 'these', 'than', 'ours', \"couldn't\", \"that'll\", 'aren', 'why', 'himself', 'wouldn', 'few', 'd', \"you'll\", \"wasn't\", 'weren', 'because', 'those', 'should', \"won't\", 'won', 'any', 'haven', 'now', 'been', 'had', 'up', 'needn', 'that', 'yourself', 'and', 'are', 'myself', 'my', 'doing', \"haven't\", \"didn't\", 'down', \"you're\", 'don', \"hasn't\", 'he', 'it', \"shouldn't\", 'yourselves', 'being', 'mustn', \"shan't\", 'were', 'our', 'as', 'ma', 'until', \"it's\", 'having', 'do', 'their', 'how', 'other', 'its', 'such', 'we', 'of', 's', \"doesn't\", 'more', 'nor', 'an', 'same', 'they', 'whom', 'ain', 'hers', 'a', 'or', 'when', 'here', 'hasn', 'shan', 'the', 'hadn', 'during', 'has', 'above', \"you'd\", 'on', 'she', 'who', 'm', 'both', 'against', 'own', 'about', \"hadn't\"}\n"
     ]
    }
   ],
   "source": [
    "#Stopwords selection\n",
    "#https://www.cs.cmu.edu/~ark/EMNLP-2015/proceedings/WASSA/pdf/WASSA14.pdf\n",
    "\n",
    "stopWords = set(stopwords.words('english'))\n",
    "print(stopWords)"
   ]
  },
  {
   "cell_type": "code",
   "execution_count": 18,
   "metadata": {},
   "outputs": [
    {
     "name": "stdout",
     "output_type": "stream",
     "text": [
      "{'am', 'will', 'mightn', 't', 'then', 'after', 'can', 'does', 'just', 'is', 'with', 'from', 'this', 'her', 'what', 'but', 'to', 'not', 'out', 'yours', 'by', 'll', 've', 'was', 'for', 'again', 'in', 'me', 'wasn', 'themselves', \"should've\", 'if', 'very', 'under', 'ourselves', 'so', 'theirs', \"she's\", 'while', 'further', 'each', 'herself', 'isn', 'have', 'between', 'all', 'him', 'itself', 'there', 'you', 'did', 'through', 'be', 'most', 'which', 'doesn', 'some', 'off', 'only', 'his', 'too', 'over', 're', 'at', 'shouldn', 'your', 'couldn', 'where', 'them', 'i', 'once', 'before', 'no', 'below', 'into', 'y', 'didn', \"you've\", 'o', 'these', 'than', 'ours', \"that'll\", 'aren', 'why', 'himself', 'wouldn', 'few', 'd', \"you'll\", 'weren', 'because', 'those', 'should', 'won', 'any', 'haven', 'now', 'been', 'had', 'up', 'needn', 'that', 'yourself', 'and', 'are', 'myself', 'my', 'doing', 'down', \"you're\", 'don', 'he', 'it', 'yourselves', 'being', 'mustn', 'were', 'our', 'as', 'ma', 'until', \"it's\", 'having', 'do', 'their', 'how', 'other', 'its', 'such', 'we', 'of', 's', 'more', 'nor', 'an', 'same', 'they', 'whom', 'ain', 'hers', 'a', 'or', 'when', 'here', 'hasn', 'shan', 'the', 'hadn', 'during', 'has', 'above', \"you'd\", 'on', 'she', 'who', 'm', 'both', 'against', 'own', 'about'}\n"
     ]
    }
   ],
   "source": [
    "def filterStopWords(words):\n",
    "    filteredList = set()\n",
    "    for word in words:\n",
    "        if \"n't\" not in word:\n",
    "            filteredList.add(word)\n",
    "    return filteredList\n",
    "\n",
    "\n",
    "\n",
    "stopWords = filterStopWords(stopWords)\n",
    "print(stopWords)"
   ]
  },
  {
   "cell_type": "code",
   "execution_count": 19,
   "metadata": {},
   "outputs": [],
   "source": [
    "\n",
    "wordsRequiredOfStopWords = ['not', 'nor', 'neither' , 'no']\n",
    "\n",
    "stopWords = stopWords.difference(wordsRequiredOfStopWords)"
   ]
  },
  {
   "cell_type": "code",
   "execution_count": 20,
   "metadata": {},
   "outputs": [],
   "source": [
    "#Improving performance in string manipulation\n",
    "def expandContractions(text):\n",
    "    words = text.split(' ')\n",
    "    expandedTextList = []\n",
    "    for word in words:\n",
    "        if(word in contractions):\n",
    "            expandedTextList.append(contractions[word].split('/')[0]) #Always considering 1st form of verb for list\n",
    "        else:\n",
    "            expandedTextList.append(word)\n",
    "        expandedTextList.append(' ')\n",
    "    return ''.join(expandedTextList)\n",
    "\n",
    "def getNonStopWordsLowerCase(text):\n",
    "    textTokens = word_tokenize(text)\n",
    "    retText = []\n",
    "    for w in textTokens:\n",
    "        w = w.lower()\n",
    "        if(w not in stopWords and len(w) > 1) :\n",
    "            retText.append(w + ' ')\n",
    "            \n",
    "    return ''.join(retText)\n",
    "\n",
    "def textCleaning(text):\n",
    "    \n",
    "    #Remove Hyperlinks\n",
    "    # Regex: r'\\S+', # sequence of non-whitespace\n",
    "    text = re.sub(r'http\\S+', '', text)\n",
    "    \n",
    "    #Remove all tags\n",
    "    text = BeautifulSoup(text, 'html.parser').get_text()\n",
    "    \n",
    "    #Expand texts\n",
    "    text = expandContractions(text)\n",
    "    \n",
    "    #Remove all words containing numbers\n",
    "    #https://stackoverflow.com/questions/18082130/python-regex-to-remove-all-words-which-contains-number\n",
    "    text = ' '.join(s for s in text.split() if not any(c.isdigit() for c in s))\n",
    "    \n",
    "    #Remove special characters\n",
    "    text = re.sub('[^A-Za-z]+', ' ', text)\n",
    "    \n",
    "    #Get non stop words in lower case\n",
    "    text = getNonStopWordsLowerCase(text).strip()\n",
    "    \n",
    "    return text\n"
   ]
  },
  {
   "cell_type": "code",
   "execution_count": 21,
   "metadata": {},
   "outputs": [
    {
     "name": "stderr",
     "output_type": "stream",
     "text": [
      "100%|██████████████████████████████████████████████████████████████████████████| 75000/75000 [00:49<00:00, 1502.21it/s]\n"
     ]
    }
   ],
   "source": [
    "\n",
    "preprocessed_texts = []\n",
    "\n",
    "for text in tqdm(data['text'].values):\n",
    "    doneText = textCleaning(text)\n",
    "    #if(len(doneText) < 2):\n",
    "    #   continue\n",
    "    preprocessed_texts.append(doneText)\n"
   ]
  },
  {
   "cell_type": "code",
   "execution_count": 22,
   "metadata": {},
   "outputs": [
    {
     "data": {
      "text/plain": [
       "75000"
      ]
     },
     "execution_count": 22,
     "metadata": {},
     "output_type": "execute_result"
    }
   ],
   "source": [
    "len(preprocessed_texts)"
   ]
  },
  {
   "cell_type": "code",
   "execution_count": 23,
   "metadata": {},
   "outputs": [],
   "source": [
    "#Sample prints\n",
    "\n",
    "def printPreprocessedTexts(idx):\n",
    "\n",
    "    print(\"Original Text:\\t\",data['text'][idx] , end='\\n\\n')\n",
    "    print(\"Preprocessed Text:\\t\",preprocessed_texts[idx], end='\\n\\n')\n",
    "\n",
    "    print(\"Polarity of the text: \", data['polarity'][idx])"
   ]
  },
  {
   "cell_type": "code",
   "execution_count": 24,
   "metadata": {
    "scrolled": true
   },
   "outputs": [
    {
     "name": "stdout",
     "output_type": "stream",
     "text": [
      "Original Text:\t My sister and I really enjoyed Cartet in April.  If the day is nice and the wait is long, get prepared items from the shop section and picnic.  We waited just long enough for me to buy blueberry chocolate spread from the shop (AMAZING).  Brunch menu is extensive, and we both ordered huge plates with a little bit of everything.  Sister--Brunch de L'Atlantique: Eggs with smoked salmon, half a bagel with all the typical accoutrements, greens, a little sweet potato and salmon cake, and fruit. Me: Brunch de Sante--yogurt with granola and blueberries, poached eggs on greens, and grilled bread, cheddar sticks, and a fig.  And it came with coffee and juice, all for $15.  This is the kind of plate I would dream up for myself at home.\n",
      "\n",
      "Preprocessed Text:\t sister really enjoyed cartet april day nice wait long get prepared items shop section picnic waited long enough buy blueberry chocolate spread shop amazing brunch menu extensive ordered huge plates little bit everything sister brunch de atlantique eggs smoked salmon half bagel typical accoutrements greens little sweet potato salmon cake fruit brunch de sante yogurt granola blueberries poached eggs greens grilled bread cheddar sticks fig came coffee juice kind plate would dream home\n",
      "\n",
      "Polarity of the text:  1\n"
     ]
    }
   ],
   "source": [
    "printPreprocessedTexts(0)"
   ]
  },
  {
   "cell_type": "code",
   "execution_count": 25,
   "metadata": {
    "scrolled": true
   },
   "outputs": [
    {
     "name": "stdout",
     "output_type": "stream",
     "text": [
      "Original Text:\t Watch their pricing!  I wanted to  buy 18 of an item and they attempted to charge me the price for a dozen and then a higher price for the last half dozen!  The cashier said they had only two buttons on their register.  The \"manager\" on duty said that higher price for the last half dozen was their pricing policy!  In the spirit of \"let the the buyer beware\", consider yourself warned!\n",
      "\n",
      "Preprocessed Text:\t watch pricing wanted buy item attempted charge price dozen higher price last half dozen cashier said two buttons register manager duty said higher price last half dozen pricing policy spirit let buyer beware consider warned\n",
      "\n",
      "Polarity of the text:  -1\n"
     ]
    }
   ],
   "source": [
    "printPreprocessedTexts(1)"
   ]
  },
  {
   "cell_type": "code",
   "execution_count": 26,
   "metadata": {},
   "outputs": [
    {
     "name": "stdout",
     "output_type": "stream",
     "text": [
      "Original Text:\t I like sampling the different teas and checking out the new products. I was happy to see the company redesigned one of tumblers. The staff at his location is very knowledgeable about their products.\n",
      "\n",
      "Preprocessed Text:\t like sampling different teas checking new products happy see company redesigned one tumblers staff location knowledgeable products\n",
      "\n",
      "Polarity of the text:  1\n"
     ]
    }
   ],
   "source": [
    "printPreprocessedTexts(2)"
   ]
  },
  {
   "cell_type": "code",
   "execution_count": 27,
   "metadata": {},
   "outputs": [
    {
     "name": "stdout",
     "output_type": "stream",
     "text": [
      "<class 'pandas.core.frame.DataFrame'>\n",
      "RangeIndex: 75000 entries, 0 to 74999\n",
      "Data columns (total 3 columns):\n",
      "Review      75000 non-null object\n",
      "Polarity    75000 non-null int64\n",
      "Useful      75000 non-null int64\n",
      "dtypes: int64(2), object(1)\n",
      "memory usage: 1.7+ MB\n"
     ]
    }
   ],
   "source": [
    "#Writing to CSV to avoid recomputation\n",
    "\n",
    "#colList = ['Review','Polarity','Useful']\n",
    "to_save = pd.DataFrame({'Review': preprocessed_texts, 'Polarity': data['polarity'], 'Useful':data['useful'] })\n",
    "to_save.info()"
   ]
  },
  {
   "cell_type": "code",
   "execution_count": 28,
   "metadata": {},
   "outputs": [],
   "source": [
    "to_save.to_csv('dataset/preprocessed.csv', index=False)"
   ]
  },
  {
   "cell_type": "code",
   "execution_count": null,
   "metadata": {},
   "outputs": [],
   "source": []
  }
 ],
 "metadata": {
  "kernelspec": {
   "display_name": "Python 3",
   "language": "python",
   "name": "python3"
  },
  "language_info": {
   "codemirror_mode": {
    "name": "ipython",
    "version": 3
   },
   "file_extension": ".py",
   "mimetype": "text/x-python",
   "name": "python",
   "nbconvert_exporter": "python",
   "pygments_lexer": "ipython3",
   "version": "3.7.3"
  }
 },
 "nbformat": 4,
 "nbformat_minor": 2
}
