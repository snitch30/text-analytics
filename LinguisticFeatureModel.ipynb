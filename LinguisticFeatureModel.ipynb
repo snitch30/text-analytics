{
 "cells": [
  {
   "cell_type": "code",
   "execution_count": 1,
   "metadata": {},
   "outputs": [],
   "source": [
    "import pandas as pd\n",
    "import numpy as np\n",
    "import matplotlib.pyplot as plt\n",
    "import seaborn as sns\n",
    "from tqdm import tqdm\n",
    "from scipy.stats import zscore\n",
    "from sklearn.metrics import confusion_matrix \n",
    "from sklearn.model_selection import train_test_split\n",
    "from sklearn.ensemble  import RandomForestClassifier\n",
    "from sklearn import metrics\n",
    "from sklearn.tree import DecisionTreeClassifier\n",
    "from sklearn.svm import SVC \n",
    "from sklearn.neighbors import KNeighborsClassifier\n",
    "from sklearn.naive_bayes import GaussianNB\n",
    "from sklearn.metrics import confusion_matrix\n",
    "\n",
    "sns.set_style('white')\n",
    "sns.set_context(\"poster\")"
   ]
  },
  {
   "cell_type": "code",
   "execution_count": 2,
   "metadata": {},
   "outputs": [],
   "source": [
    "data = pd.read_csv('dataset/data_with_tags.csv')"
   ]
  },
  {
   "cell_type": "code",
   "execution_count": 3,
   "metadata": {
    "scrolled": true
   },
   "outputs": [
    {
     "data": {
      "text/html": [
       "<div>\n",
       "<style scoped>\n",
       "    .dataframe tbody tr th:only-of-type {\n",
       "        vertical-align: middle;\n",
       "    }\n",
       "\n",
       "    .dataframe tbody tr th {\n",
       "        vertical-align: top;\n",
       "    }\n",
       "\n",
       "    .dataframe thead th {\n",
       "        text-align: right;\n",
       "    }\n",
       "</style>\n",
       "<table border=\"1\" class=\"dataframe\">\n",
       "  <thead>\n",
       "    <tr style=\"text-align: right;\">\n",
       "      <th></th>\n",
       "      <th>Review</th>\n",
       "      <th>Polarity</th>\n",
       "      <th>Useful</th>\n",
       "      <th>ReviewLength</th>\n",
       "      <th>Nouns</th>\n",
       "      <th>Adjectives</th>\n",
       "      <th>Verbs</th>\n",
       "    </tr>\n",
       "  </thead>\n",
       "  <tbody>\n",
       "    <tr>\n",
       "      <th>0</th>\n",
       "      <td>sister really enjoyed cartet april day nice wa...</td>\n",
       "      <td>1</td>\n",
       "      <td>0</td>\n",
       "      <td>486</td>\n",
       "      <td>35.0</td>\n",
       "      <td>15.0</td>\n",
       "      <td>14.0</td>\n",
       "    </tr>\n",
       "    <tr>\n",
       "      <th>1</th>\n",
       "      <td>watch pricing wanted buy item attempted charge...</td>\n",
       "      <td>-1</td>\n",
       "      <td>0</td>\n",
       "      <td>223</td>\n",
       "      <td>21.0</td>\n",
       "      <td>6.0</td>\n",
       "      <td>7.0</td>\n",
       "    </tr>\n",
       "    <tr>\n",
       "      <th>2</th>\n",
       "      <td>like sampling different teas checking new prod...</td>\n",
       "      <td>1</td>\n",
       "      <td>0</td>\n",
       "      <td>130</td>\n",
       "      <td>7.0</td>\n",
       "      <td>4.0</td>\n",
       "      <td>4.0</td>\n",
       "    </tr>\n",
       "    <tr>\n",
       "      <th>3</th>\n",
       "      <td>crispy chicken sandwich good considering going...</td>\n",
       "      <td>1</td>\n",
       "      <td>0</td>\n",
       "      <td>246</td>\n",
       "      <td>12.0</td>\n",
       "      <td>6.0</td>\n",
       "      <td>11.0</td>\n",
       "    </tr>\n",
       "    <tr>\n",
       "      <th>4</th>\n",
       "      <td>boyfriend one trip vegas annually pack shows e...</td>\n",
       "      <td>1</td>\n",
       "      <td>0</td>\n",
       "      <td>738</td>\n",
       "      <td>46.0</td>\n",
       "      <td>23.0</td>\n",
       "      <td>23.0</td>\n",
       "    </tr>\n",
       "    <tr>\n",
       "      <th>...</th>\n",
       "      <td>...</td>\n",
       "      <td>...</td>\n",
       "      <td>...</td>\n",
       "      <td>...</td>\n",
       "      <td>...</td>\n",
       "      <td>...</td>\n",
       "      <td>...</td>\n",
       "    </tr>\n",
       "    <tr>\n",
       "      <th>74992</th>\n",
       "      <td>disabled veteran service dog denied service to...</td>\n",
       "      <td>-1</td>\n",
       "      <td>1</td>\n",
       "      <td>87</td>\n",
       "      <td>7.0</td>\n",
       "      <td>2.0</td>\n",
       "      <td>3.0</td>\n",
       "    </tr>\n",
       "    <tr>\n",
       "      <th>74993</th>\n",
       "      <td>great service place clean job completed quickl...</td>\n",
       "      <td>1</td>\n",
       "      <td>0</td>\n",
       "      <td>63</td>\n",
       "      <td>3.0</td>\n",
       "      <td>2.0</td>\n",
       "      <td>2.0</td>\n",
       "    </tr>\n",
       "    <tr>\n",
       "      <th>74994</th>\n",
       "      <td>really star review no longer take clients rest...</td>\n",
       "      <td>-1</td>\n",
       "      <td>4</td>\n",
       "      <td>439</td>\n",
       "      <td>26.0</td>\n",
       "      <td>14.0</td>\n",
       "      <td>18.0</td>\n",
       "    </tr>\n",
       "    <tr>\n",
       "      <th>74995</th>\n",
       "      <td>say never say never japango say never ever tdl...</td>\n",
       "      <td>-1</td>\n",
       "      <td>10</td>\n",
       "      <td>2405</td>\n",
       "      <td>136.0</td>\n",
       "      <td>69.0</td>\n",
       "      <td>77.0</td>\n",
       "    </tr>\n",
       "    <tr>\n",
       "      <th>74996</th>\n",
       "      <td>sears even read sh tty reviews no wonder fight...</td>\n",
       "      <td>-1</td>\n",
       "      <td>0</td>\n",
       "      <td>728</td>\n",
       "      <td>41.0</td>\n",
       "      <td>23.0</td>\n",
       "      <td>31.0</td>\n",
       "    </tr>\n",
       "  </tbody>\n",
       "</table>\n",
       "<p>74997 rows × 7 columns</p>\n",
       "</div>"
      ],
      "text/plain": [
       "                                                  Review  Polarity  Useful  \\\n",
       "0      sister really enjoyed cartet april day nice wa...         1       0   \n",
       "1      watch pricing wanted buy item attempted charge...        -1       0   \n",
       "2      like sampling different teas checking new prod...         1       0   \n",
       "3      crispy chicken sandwich good considering going...         1       0   \n",
       "4      boyfriend one trip vegas annually pack shows e...         1       0   \n",
       "...                                                  ...       ...     ...   \n",
       "74992  disabled veteran service dog denied service to...        -1       1   \n",
       "74993  great service place clean job completed quickl...         1       0   \n",
       "74994  really star review no longer take clients rest...        -1       4   \n",
       "74995  say never say never japango say never ever tdl...        -1      10   \n",
       "74996  sears even read sh tty reviews no wonder fight...        -1       0   \n",
       "\n",
       "       ReviewLength  Nouns  Adjectives  Verbs  \n",
       "0               486   35.0        15.0   14.0  \n",
       "1               223   21.0         6.0    7.0  \n",
       "2               130    7.0         4.0    4.0  \n",
       "3               246   12.0         6.0   11.0  \n",
       "4               738   46.0        23.0   23.0  \n",
       "...             ...    ...         ...    ...  \n",
       "74992            87    7.0         2.0    3.0  \n",
       "74993            63    3.0         2.0    2.0  \n",
       "74994           439   26.0        14.0   18.0  \n",
       "74995          2405  136.0        69.0   77.0  \n",
       "74996           728   41.0        23.0   31.0  \n",
       "\n",
       "[74997 rows x 7 columns]"
      ]
     },
     "execution_count": 3,
     "metadata": {},
     "output_type": "execute_result"
    }
   ],
   "source": [
    "data"
   ]
  },
  {
   "cell_type": "code",
   "execution_count": 4,
   "metadata": {},
   "outputs": [
    {
     "data": {
      "text/html": [
       "<div>\n",
       "<style scoped>\n",
       "    .dataframe tbody tr th:only-of-type {\n",
       "        vertical-align: middle;\n",
       "    }\n",
       "\n",
       "    .dataframe tbody tr th {\n",
       "        vertical-align: top;\n",
       "    }\n",
       "\n",
       "    .dataframe thead th {\n",
       "        text-align: right;\n",
       "    }\n",
       "</style>\n",
       "<table border=\"1\" class=\"dataframe\">\n",
       "  <thead>\n",
       "    <tr style=\"text-align: right;\">\n",
       "      <th></th>\n",
       "      <th>Polarity</th>\n",
       "      <th>Useful</th>\n",
       "      <th>ReviewLength</th>\n",
       "      <th>Nouns</th>\n",
       "      <th>Adjectives</th>\n",
       "      <th>Verbs</th>\n",
       "    </tr>\n",
       "  </thead>\n",
       "  <tbody>\n",
       "    <tr>\n",
       "      <th>count</th>\n",
       "      <td>74997.000000</td>\n",
       "      <td>74997.000000</td>\n",
       "      <td>74997.000000</td>\n",
       "      <td>74997.000000</td>\n",
       "      <td>74997.000000</td>\n",
       "      <td>74997.000000</td>\n",
       "    </tr>\n",
       "    <tr>\n",
       "      <th>mean</th>\n",
       "      <td>0.000027</td>\n",
       "      <td>1.534941</td>\n",
       "      <td>411.325133</td>\n",
       "      <td>25.845327</td>\n",
       "      <td>12.593464</td>\n",
       "      <td>13.467792</td>\n",
       "    </tr>\n",
       "    <tr>\n",
       "      <th>std</th>\n",
       "      <td>0.816502</td>\n",
       "      <td>9.585050</td>\n",
       "      <td>369.768736</td>\n",
       "      <td>23.528850</td>\n",
       "      <td>11.155268</td>\n",
       "      <td>13.479472</td>\n",
       "    </tr>\n",
       "    <tr>\n",
       "      <th>min</th>\n",
       "      <td>-1.000000</td>\n",
       "      <td>0.000000</td>\n",
       "      <td>3.000000</td>\n",
       "      <td>0.000000</td>\n",
       "      <td>0.000000</td>\n",
       "      <td>0.000000</td>\n",
       "    </tr>\n",
       "    <tr>\n",
       "      <th>25%</th>\n",
       "      <td>-1.000000</td>\n",
       "      <td>0.000000</td>\n",
       "      <td>168.000000</td>\n",
       "      <td>11.000000</td>\n",
       "      <td>5.000000</td>\n",
       "      <td>5.000000</td>\n",
       "    </tr>\n",
       "    <tr>\n",
       "      <th>50%</th>\n",
       "      <td>0.000000</td>\n",
       "      <td>1.000000</td>\n",
       "      <td>299.000000</td>\n",
       "      <td>19.000000</td>\n",
       "      <td>9.000000</td>\n",
       "      <td>9.000000</td>\n",
       "    </tr>\n",
       "    <tr>\n",
       "      <th>75%</th>\n",
       "      <td>1.000000</td>\n",
       "      <td>2.000000</td>\n",
       "      <td>527.000000</td>\n",
       "      <td>33.000000</td>\n",
       "      <td>16.000000</td>\n",
       "      <td>18.000000</td>\n",
       "    </tr>\n",
       "    <tr>\n",
       "      <th>max</th>\n",
       "      <td>1.000000</td>\n",
       "      <td>2133.000000</td>\n",
       "      <td>4713.000000</td>\n",
       "      <td>504.000000</td>\n",
       "      <td>156.000000</td>\n",
       "      <td>153.000000</td>\n",
       "    </tr>\n",
       "  </tbody>\n",
       "</table>\n",
       "</div>"
      ],
      "text/plain": [
       "           Polarity        Useful  ReviewLength         Nouns    Adjectives  \\\n",
       "count  74997.000000  74997.000000  74997.000000  74997.000000  74997.000000   \n",
       "mean       0.000027      1.534941    411.325133     25.845327     12.593464   \n",
       "std        0.816502      9.585050    369.768736     23.528850     11.155268   \n",
       "min       -1.000000      0.000000      3.000000      0.000000      0.000000   \n",
       "25%       -1.000000      0.000000    168.000000     11.000000      5.000000   \n",
       "50%        0.000000      1.000000    299.000000     19.000000      9.000000   \n",
       "75%        1.000000      2.000000    527.000000     33.000000     16.000000   \n",
       "max        1.000000   2133.000000   4713.000000    504.000000    156.000000   \n",
       "\n",
       "              Verbs  \n",
       "count  74997.000000  \n",
       "mean      13.467792  \n",
       "std       13.479472  \n",
       "min        0.000000  \n",
       "25%        5.000000  \n",
       "50%        9.000000  \n",
       "75%       18.000000  \n",
       "max      153.000000  "
      ]
     },
     "execution_count": 4,
     "metadata": {},
     "output_type": "execute_result"
    }
   ],
   "source": [
    "data.describe()"
   ]
  },
  {
   "cell_type": "code",
   "execution_count": 5,
   "metadata": {},
   "outputs": [
    {
     "data": {
      "text/plain": [
       "array([   0,    3,    1,   11,    2,   14,    8,    6,    4,    5,    9,\n",
       "          7,   21,   17,   10,   19,   15,   13,   18,   42,   45,   20,\n",
       "         64,   12,   16,   26,   24,   27,   32,   25,   37,   35,   22,\n",
       "         43,   39,   46,  112,   65,   28,  194,   29,   23,   51,   44,\n",
       "        200,   30,   33,   31,  463,   52,   56,   49,   61,   40,   47,\n",
       "        319,   48,   50,   53,   34,   76,   36,   80,  133,   89,   58,\n",
       "         38,   59,   54,   86,   67,   72,   62,   85, 2133,  782,   69,\n",
       "         95,  775,   63], dtype=int64)"
      ]
     },
     "execution_count": 5,
     "metadata": {},
     "output_type": "execute_result"
    }
   ],
   "source": [
    "## Useful got some aweful outliers\n",
    "\n",
    "data['Useful'].unique()"
   ]
  },
  {
   "cell_type": "code",
   "execution_count": 6,
   "metadata": {},
   "outputs": [
    {
     "data": {
      "image/png": "[encoded data removed]",
      "text/plain": [
       "<Figure size 1080x1080 with 36 Axes>"
      ]
     },
     "metadata": {},
     "output_type": "display_data"
    }
   ],
   "source": [
    "g = sns.PairGrid(data)\n",
    "#g.map(plt.scatter)"
   ]
  },
  {
   "cell_type": "code",
   "execution_count": 7,
   "metadata": {},
   "outputs": [],
   "source": [
    "#Removing Useful outliers\n",
    "\n",
    "\n",
    "top_99 = data[\"Useful\"].quantile(0.99)\n",
    "data = data[data[\"Useful\"] < top_99]"
   ]
  },
  {
   "cell_type": "code",
   "execution_count": 8,
   "metadata": {},
   "outputs": [
    {
     "data": {
      "text/html": [
       "<div>\n",
       "<style scoped>\n",
       "    .dataframe tbody tr th:only-of-type {\n",
       "        vertical-align: middle;\n",
       "    }\n",
       "\n",
       "    .dataframe tbody tr th {\n",
       "        vertical-align: top;\n",
       "    }\n",
       "\n",
       "    .dataframe thead th {\n",
       "        text-align: right;\n",
       "    }\n",
       "</style>\n",
       "<table border=\"1\" class=\"dataframe\">\n",
       "  <thead>\n",
       "    <tr style=\"text-align: right;\">\n",
       "      <th></th>\n",
       "      <th>Polarity</th>\n",
       "      <th>Useful</th>\n",
       "      <th>ReviewLength</th>\n",
       "      <th>Nouns</th>\n",
       "      <th>Adjectives</th>\n",
       "      <th>Verbs</th>\n",
       "    </tr>\n",
       "  </thead>\n",
       "  <tbody>\n",
       "    <tr>\n",
       "      <th>count</th>\n",
       "      <td>74129.000000</td>\n",
       "      <td>74129.000000</td>\n",
       "      <td>74129.000000</td>\n",
       "      <td>74129.000000</td>\n",
       "      <td>74129.000000</td>\n",
       "      <td>74129.000000</td>\n",
       "    </tr>\n",
       "    <tr>\n",
       "      <th>mean</th>\n",
       "      <td>0.003507</td>\n",
       "      <td>1.241134</td>\n",
       "      <td>405.913192</td>\n",
       "      <td>25.510596</td>\n",
       "      <td>12.457176</td>\n",
       "      <td>13.264701</td>\n",
       "    </tr>\n",
       "    <tr>\n",
       "      <th>std</th>\n",
       "      <td>0.815822</td>\n",
       "      <td>1.948626</td>\n",
       "      <td>362.087619</td>\n",
       "      <td>23.064759</td>\n",
       "      <td>10.973355</td>\n",
       "      <td>13.179041</td>\n",
       "    </tr>\n",
       "    <tr>\n",
       "      <th>min</th>\n",
       "      <td>-1.000000</td>\n",
       "      <td>0.000000</td>\n",
       "      <td>3.000000</td>\n",
       "      <td>0.000000</td>\n",
       "      <td>0.000000</td>\n",
       "      <td>0.000000</td>\n",
       "    </tr>\n",
       "    <tr>\n",
       "      <th>25%</th>\n",
       "      <td>-1.000000</td>\n",
       "      <td>0.000000</td>\n",
       "      <td>167.000000</td>\n",
       "      <td>11.000000</td>\n",
       "      <td>5.000000</td>\n",
       "      <td>5.000000</td>\n",
       "    </tr>\n",
       "    <tr>\n",
       "      <th>50%</th>\n",
       "      <td>0.000000</td>\n",
       "      <td>0.000000</td>\n",
       "      <td>297.000000</td>\n",
       "      <td>19.000000</td>\n",
       "      <td>9.000000</td>\n",
       "      <td>9.000000</td>\n",
       "    </tr>\n",
       "    <tr>\n",
       "      <th>75%</th>\n",
       "      <td>1.000000</td>\n",
       "      <td>2.000000</td>\n",
       "      <td>520.000000</td>\n",
       "      <td>32.000000</td>\n",
       "      <td>16.000000</td>\n",
       "      <td>17.000000</td>\n",
       "    </tr>\n",
       "    <tr>\n",
       "      <th>max</th>\n",
       "      <td>1.000000</td>\n",
       "      <td>12.000000</td>\n",
       "      <td>4713.000000</td>\n",
       "      <td>504.000000</td>\n",
       "      <td>156.000000</td>\n",
       "      <td>153.000000</td>\n",
       "    </tr>\n",
       "  </tbody>\n",
       "</table>\n",
       "</div>"
      ],
      "text/plain": [
       "           Polarity        Useful  ReviewLength         Nouns    Adjectives  \\\n",
       "count  74129.000000  74129.000000  74129.000000  74129.000000  74129.000000   \n",
       "mean       0.003507      1.241134    405.913192     25.510596     12.457176   \n",
       "std        0.815822      1.948626    362.087619     23.064759     10.973355   \n",
       "min       -1.000000      0.000000      3.000000      0.000000      0.000000   \n",
       "25%       -1.000000      0.000000    167.000000     11.000000      5.000000   \n",
       "50%        0.000000      0.000000    297.000000     19.000000      9.000000   \n",
       "75%        1.000000      2.000000    520.000000     32.000000     16.000000   \n",
       "max        1.000000     12.000000   4713.000000    504.000000    156.000000   \n",
       "\n",
       "              Verbs  \n",
       "count  74129.000000  \n",
       "mean      13.264701  \n",
       "std       13.179041  \n",
       "min        0.000000  \n",
       "25%        5.000000  \n",
       "50%        9.000000  \n",
       "75%       17.000000  \n",
       "max      153.000000  "
      ]
     },
     "execution_count": 8,
     "metadata": {},
     "output_type": "execute_result"
    }
   ],
   "source": [
    "data.describe()"
   ]
  },
  {
   "cell_type": "code",
   "execution_count": 9,
   "metadata": {},
   "outputs": [],
   "source": [
    "# sns.relplot(x=\"Useful\", y=\"Nouns\", data=data, hue=\"Polarity\", style=\"Polarity\");\n",
    "# sns.relplot(x=\"Useful\", y=\"Adjectives\", data=data, hue=\"Polarity\", style=\"Polarity\");\n",
    "# sns.relplot(x=\"Useful\", y=\"Verbs\", data=data, hue=\"Polarity\", style=\"Polarity\");"
   ]
  },
  {
   "cell_type": "code",
   "execution_count": 10,
   "metadata": {},
   "outputs": [],
   "source": [
    "# Dividing the usefulness:\n",
    "'''\n",
    " * < 4 Low\n",
    " * >=4 and <8 Average\n",
    " * >= 8 High\n",
    "''' \n",
    "\n",
    "def applyUsefulness(useful):\n",
    "    if useful < 4:\n",
    "        return 'low'\n",
    "    if useful >= 4 and useful <8:\n",
    "        return 'medium'\n",
    "    if useful >= 8:\n",
    "        return 'high'"
   ]
  },
  {
   "cell_type": "code",
   "execution_count": 11,
   "metadata": {},
   "outputs": [
    {
     "name": "stderr",
     "output_type": "stream",
     "text": [
      "C:\\ProgramData\\Anaconda3\\lib\\site-packages\\ipykernel_launcher.py:3: SettingWithCopyWarning: \n",
      "A value is trying to be set on a copy of a slice from a DataFrame.\n",
      "Try using .loc[row_indexer,col_indexer] = value instead\n",
      "\n",
      "See the caveats in the documentation: http://pandas.pydata.org/pandas-docs/stable/user_guide/indexing.html#returning-a-view-versus-a-copy\n",
      "  This is separate from the ipykernel package so we can avoid doing imports until\n"
     ]
    }
   ],
   "source": [
    "UsefulnessColumn = data['Useful']\n",
    "Usefulness = UsefulnessColumn.map(applyUsefulness)\n",
    "data['UsefulnessPolarity'] = Usefulness "
   ]
  },
  {
   "cell_type": "code",
   "execution_count": 12,
   "metadata": {},
   "outputs": [
    {
     "data": {
      "text/plain": [
       "array(['low', 'high', 'medium'], dtype=object)"
      ]
     },
     "execution_count": 12,
     "metadata": {},
     "output_type": "execute_result"
    }
   ],
   "source": [
    "data['UsefulnessPolarity'].unique()"
   ]
  },
  {
   "cell_type": "code",
   "execution_count": 13,
   "metadata": {},
   "outputs": [],
   "source": [
    "# sns.relplot(x=\"UsefulnessPolarity\", y=\"Nouns\", data=data, hue=\"Polarity\", style=\"Polarity\");\n",
    "# sns.relplot(x=\"UsefulnessPolarity\", y=\"Adjectives\", data=data, hue=\"Polarity\", style=\"Polarity\");\n",
    "# sns.relplot(x=\"UsefulnessPolarity\", y=\"Verbs\", data=data, hue=\"Polarity\", style=\"Polarity\");"
   ]
  },
  {
   "cell_type": "markdown",
   "metadata": {},
   "source": [
    "### Models with only linguistic features"
   ]
  },
  {
   "cell_type": "code",
   "execution_count": 14,
   "metadata": {},
   "outputs": [
    {
     "data": {
      "text/html": [
       "<div>\n",
       "<style scoped>\n",
       "    .dataframe tbody tr th:only-of-type {\n",
       "        vertical-align: middle;\n",
       "    }\n",
       "\n",
       "    .dataframe tbody tr th {\n",
       "        vertical-align: top;\n",
       "    }\n",
       "\n",
       "    .dataframe thead th {\n",
       "        text-align: right;\n",
       "    }\n",
       "</style>\n",
       "<table border=\"1\" class=\"dataframe\">\n",
       "  <thead>\n",
       "    <tr style=\"text-align: right;\">\n",
       "      <th></th>\n",
       "      <th>Review</th>\n",
       "      <th>Polarity</th>\n",
       "      <th>Useful</th>\n",
       "      <th>ReviewLength</th>\n",
       "      <th>Nouns</th>\n",
       "      <th>Adjectives</th>\n",
       "      <th>Verbs</th>\n",
       "      <th>UsefulnessPolarity</th>\n",
       "    </tr>\n",
       "  </thead>\n",
       "  <tbody>\n",
       "    <tr>\n",
       "      <th>0</th>\n",
       "      <td>sister really enjoyed cartet april day nice wa...</td>\n",
       "      <td>1</td>\n",
       "      <td>0</td>\n",
       "      <td>486</td>\n",
       "      <td>35.0</td>\n",
       "      <td>15.0</td>\n",
       "      <td>14.0</td>\n",
       "      <td>low</td>\n",
       "    </tr>\n",
       "    <tr>\n",
       "      <th>1</th>\n",
       "      <td>watch pricing wanted buy item attempted charge...</td>\n",
       "      <td>-1</td>\n",
       "      <td>0</td>\n",
       "      <td>223</td>\n",
       "      <td>21.0</td>\n",
       "      <td>6.0</td>\n",
       "      <td>7.0</td>\n",
       "      <td>low</td>\n",
       "    </tr>\n",
       "    <tr>\n",
       "      <th>2</th>\n",
       "      <td>like sampling different teas checking new prod...</td>\n",
       "      <td>1</td>\n",
       "      <td>0</td>\n",
       "      <td>130</td>\n",
       "      <td>7.0</td>\n",
       "      <td>4.0</td>\n",
       "      <td>4.0</td>\n",
       "      <td>low</td>\n",
       "    </tr>\n",
       "    <tr>\n",
       "      <th>3</th>\n",
       "      <td>crispy chicken sandwich good considering going...</td>\n",
       "      <td>1</td>\n",
       "      <td>0</td>\n",
       "      <td>246</td>\n",
       "      <td>12.0</td>\n",
       "      <td>6.0</td>\n",
       "      <td>11.0</td>\n",
       "      <td>low</td>\n",
       "    </tr>\n",
       "    <tr>\n",
       "      <th>4</th>\n",
       "      <td>boyfriend one trip vegas annually pack shows e...</td>\n",
       "      <td>1</td>\n",
       "      <td>0</td>\n",
       "      <td>738</td>\n",
       "      <td>46.0</td>\n",
       "      <td>23.0</td>\n",
       "      <td>23.0</td>\n",
       "      <td>low</td>\n",
       "    </tr>\n",
       "  </tbody>\n",
       "</table>\n",
       "</div>"
      ],
      "text/plain": [
       "                                              Review  Polarity  Useful  \\\n",
       "0  sister really enjoyed cartet april day nice wa...         1       0   \n",
       "1  watch pricing wanted buy item attempted charge...        -1       0   \n",
       "2  like sampling different teas checking new prod...         1       0   \n",
       "3  crispy chicken sandwich good considering going...         1       0   \n",
       "4  boyfriend one trip vegas annually pack shows e...         1       0   \n",
       "\n",
       "   ReviewLength  Nouns  Adjectives  Verbs UsefulnessPolarity  \n",
       "0           486   35.0        15.0   14.0                low  \n",
       "1           223   21.0         6.0    7.0                low  \n",
       "2           130    7.0         4.0    4.0                low  \n",
       "3           246   12.0         6.0   11.0                low  \n",
       "4           738   46.0        23.0   23.0                low  "
      ]
     },
     "execution_count": 14,
     "metadata": {},
     "output_type": "execute_result"
    }
   ],
   "source": [
    "data.head()"
   ]
  },
  {
   "cell_type": "code",
   "execution_count": 15,
   "metadata": {},
   "outputs": [
    {
     "data": {
      "text/html": [
       "<div>\n",
       "<style scoped>\n",
       "    .dataframe tbody tr th:only-of-type {\n",
       "        vertical-align: middle;\n",
       "    }\n",
       "\n",
       "    .dataframe tbody tr th {\n",
       "        vertical-align: top;\n",
       "    }\n",
       "\n",
       "    .dataframe thead th {\n",
       "        text-align: right;\n",
       "    }\n",
       "</style>\n",
       "<table border=\"1\" class=\"dataframe\">\n",
       "  <thead>\n",
       "    <tr style=\"text-align: right;\">\n",
       "      <th></th>\n",
       "      <th>Polarity</th>\n",
       "      <th>Useful</th>\n",
       "      <th>ReviewLength</th>\n",
       "      <th>Nouns</th>\n",
       "      <th>Adjectives</th>\n",
       "      <th>Verbs</th>\n",
       "    </tr>\n",
       "  </thead>\n",
       "  <tbody>\n",
       "    <tr>\n",
       "      <th>Polarity</th>\n",
       "      <td>1.000000</td>\n",
       "      <td>-0.113928</td>\n",
       "      <td>-0.129735</td>\n",
       "      <td>-0.112191</td>\n",
       "      <td>-0.044640</td>\n",
       "      <td>-0.194449</td>\n",
       "    </tr>\n",
       "    <tr>\n",
       "      <th>Useful</th>\n",
       "      <td>-0.113928</td>\n",
       "      <td>1.000000</td>\n",
       "      <td>0.308953</td>\n",
       "      <td>0.293685</td>\n",
       "      <td>0.271774</td>\n",
       "      <td>0.309850</td>\n",
       "    </tr>\n",
       "    <tr>\n",
       "      <th>ReviewLength</th>\n",
       "      <td>-0.129735</td>\n",
       "      <td>0.308953</td>\n",
       "      <td>1.000000</td>\n",
       "      <td>0.969623</td>\n",
       "      <td>0.940225</td>\n",
       "      <td>0.947266</td>\n",
       "    </tr>\n",
       "    <tr>\n",
       "      <th>Nouns</th>\n",
       "      <td>-0.112191</td>\n",
       "      <td>0.293685</td>\n",
       "      <td>0.969623</td>\n",
       "      <td>1.000000</td>\n",
       "      <td>0.910301</td>\n",
       "      <td>0.883023</td>\n",
       "    </tr>\n",
       "    <tr>\n",
       "      <th>Adjectives</th>\n",
       "      <td>-0.044640</td>\n",
       "      <td>0.271774</td>\n",
       "      <td>0.940225</td>\n",
       "      <td>0.910301</td>\n",
       "      <td>1.000000</td>\n",
       "      <td>0.836232</td>\n",
       "    </tr>\n",
       "    <tr>\n",
       "      <th>Verbs</th>\n",
       "      <td>-0.194449</td>\n",
       "      <td>0.309850</td>\n",
       "      <td>0.947266</td>\n",
       "      <td>0.883023</td>\n",
       "      <td>0.836232</td>\n",
       "      <td>1.000000</td>\n",
       "    </tr>\n",
       "  </tbody>\n",
       "</table>\n",
       "</div>"
      ],
      "text/plain": [
       "              Polarity    Useful  ReviewLength     Nouns  Adjectives     Verbs\n",
       "Polarity      1.000000 -0.113928     -0.129735 -0.112191   -0.044640 -0.194449\n",
       "Useful       -0.113928  1.000000      0.308953  0.293685    0.271774  0.309850\n",
       "ReviewLength -0.129735  0.308953      1.000000  0.969623    0.940225  0.947266\n",
       "Nouns        -0.112191  0.293685      0.969623  1.000000    0.910301  0.883023\n",
       "Adjectives   -0.044640  0.271774      0.940225  0.910301    1.000000  0.836232\n",
       "Verbs        -0.194449  0.309850      0.947266  0.883023    0.836232  1.000000"
      ]
     },
     "execution_count": 15,
     "metadata": {},
     "output_type": "execute_result"
    }
   ],
   "source": [
    "data.corr()"
   ]
  },
  {
   "cell_type": "code",
   "execution_count": 16,
   "metadata": {},
   "outputs": [],
   "source": [
    "dataToConsider = data[['Polarity', 'ReviewLength', 'Nouns', 'Adjectives', 'Verbs', 'UsefulnessPolarity']]"
   ]
  },
  {
   "cell_type": "code",
   "execution_count": 17,
   "metadata": {},
   "outputs": [],
   "source": [
    "X = dataToConsider.drop('UsefulnessPolarity', axis = 1)\n",
    "y = dataToConsider['UsefulnessPolarity']\n"
   ]
  },
  {
   "cell_type": "code",
   "execution_count": 18,
   "metadata": {},
   "outputs": [],
   "source": [
    "X_train, X_test, y_train, y_test = train_test_split(X, y, random_state = 0) \n"
   ]
  },
  {
   "cell_type": "markdown",
   "metadata": {},
   "source": [
    "### DecisionTreeClassifier"
   ]
  },
  {
   "cell_type": "code",
   "execution_count": 19,
   "metadata": {},
   "outputs": [
    {
     "name": "stdout",
     "output_type": "stream",
     "text": [
      "Accuracy: 0.9001780607564884\n"
     ]
    }
   ],
   "source": [
    "\n",
    "dtree_model = DecisionTreeClassifier(max_depth = 5).fit(X_train, y_train) \n",
    "dtree_predictions = dtree_model.predict(X_test) \n",
    "print(\"Accuracy:\",metrics.accuracy_score(y_test, dtree_predictions))"
   ]
  },
  {
   "cell_type": "code",
   "execution_count": 20,
   "metadata": {},
   "outputs": [
    {
     "data": {
      "image/png": "[encoded data removed]",
      "text/plain": [
       "<Figure size 432x288 with 2 Axes>"
      ]
     },
     "metadata": {},
     "output_type": "display_data"
    }
   ],
   "source": [
    "conf_mat = confusion_matrix(y_test, dtree_predictions)\n",
    "class_label = [\"low\", \"medium\", \"high\"]\n",
    "df = pd.DataFrame(conf_mat, index = class_label, columns = class_label)\n",
    "sns.heatmap(df, annot = True,fmt=\"d\")\n",
    "plt.title(\"Confusion Matrix\")\n",
    "plt.xlabel(\"Predicted Label\")\n",
    "plt.ylabel(\"True Label\")\n",
    "plt.show()"
   ]
  },
  {
   "cell_type": "markdown",
   "metadata": {},
   "source": [
    "### Random Forest Classifier"
   ]
  },
  {
   "cell_type": "code",
   "execution_count": 21,
   "metadata": {
    "scrolled": true
   },
   "outputs": [
    {
     "name": "stdout",
     "output_type": "stream",
     "text": [
      "Accuracy: 0.8904116980521233\n"
     ]
    }
   ],
   "source": [
    "classifier = RandomForestClassifier(n_estimators = 20, criterion = 'entropy', random_state = 42)\n",
    "classifier.fit(X_train, y_train)\n",
    "y_pred=classifier.predict(X_test)\n",
    "\n",
    "print(\"Accuracy:\",metrics.accuracy_score(y_test, y_pred))"
   ]
  },
  {
   "cell_type": "code",
   "execution_count": 24,
   "metadata": {},
   "outputs": [
    {
     "data": {
      "image/png": "[encoded data removed]",
      "text/plain": [
       "<Figure size 432x288 with 2 Axes>"
      ]
     },
     "metadata": {},
     "output_type": "display_data"
    }
   ],
   "source": [
    "conf_mat = confusion_matrix(y_test, y_pred)\n",
    "class_label = [\"low\", \"medium\", \"high\"]\n",
    "df = pd.DataFrame(conf_mat, index = class_label, columns = class_label)\n",
    "sns.heatmap(df, annot = True,fmt=\"d\")\n",
    "plt.title(\"Confusion Matrix\")\n",
    "plt.xlabel(\"Predicted Label\")\n",
    "plt.ylabel(\"True Label\")\n",
    "plt.show()"
   ]
  },
  {
   "cell_type": "markdown",
   "metadata": {},
   "source": [
    "### Naive Bayes classifier "
   ]
  },
  {
   "cell_type": "code",
   "execution_count": 22,
   "metadata": {
    "scrolled": true
   },
   "outputs": [
    {
     "name": "stdout",
     "output_type": "stream",
     "text": [
      "Accuracy: 0.8457346355150273\n"
     ]
    }
   ],
   "source": [
    "gnb = GaussianNB().fit(X_train, y_train) \n",
    "gnb_predictions = gnb.predict(X_test) \n",
    "  \n",
    "# accuracy on X_test \n",
    "accuracy = gnb.score(X_test, y_test) \n",
    "print(\"Accuracy:\",accuracy) "
   ]
  },
  {
   "cell_type": "code",
   "execution_count": null,
   "metadata": {},
   "outputs": [],
   "source": []
  },
  {
   "cell_type": "markdown",
   "metadata": {},
   "source": [
    "### K Neighbors Classifier"
   ]
  },
  {
   "cell_type": "code",
   "execution_count": 23,
   "metadata": {},
   "outputs": [
    {
     "name": "stdout",
     "output_type": "stream",
     "text": [
      "0.8909512761020881\n"
     ]
    }
   ],
   "source": [
    "knn = KNeighborsClassifier(n_neighbors = 5).fit(X_train, y_train) \n",
    "  \n",
    "# accuracy on X_test \n",
    "accuracy = knn.score(X_test, y_test) \n",
    "print(accuracy)"
   ]
  },
  {
   "cell_type": "code",
   "execution_count": null,
   "metadata": {},
   "outputs": [],
   "source": []
  },
  {
   "cell_type": "code",
   "execution_count": null,
   "metadata": {},
   "outputs": [],
   "source": []
  }
 ],
 "metadata": {
  "kernelspec": {
   "display_name": "Python 3",
   "language": "python",
   "name": "python3"
  },
  "language_info": {
   "codemirror_mode": {
    "name": "ipython",
    "version": 3
   },
   "file_extension": ".py",
   "mimetype": "text/x-python",
   "name": "python",
   "nbconvert_exporter": "python",
   "pygments_lexer": "ipython3",
   "version": "3.7.3"
  }
 },
 "nbformat": 4,
 "nbformat_minor": 2
}
